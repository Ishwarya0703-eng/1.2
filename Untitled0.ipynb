{
  "nbformat": 4,
  "nbformat_minor": 0,
  "metadata": {
    "colab": {
      "provenance": [],
      "authorship_tag": "ABX9TyO4ThMqcKgWZM71sXqIL7pl",
      "include_colab_link": true
    },
    "kernelspec": {
      "name": "python3",
      "display_name": "Python 3"
    },
    "language_info": {
      "name": "python"
    }
  },
  "cells": [
    {
      "cell_type": "markdown",
      "metadata": {
        "id": "view-in-github",
        "colab_type": "text"
      },
      "source": [
        "<a href=\"https://colab.research.google.com/github/Ishwarya0703-eng/1.2/blob/main/Untitled0.ipynb\" target=\"_parent\"><img src=\"https://colab.research.google.com/assets/colab-badge.svg\" alt=\"Open In Colab\"/></a>"
      ]
    },
    {
      "cell_type": "markdown",
      "source": [
        "# Task-01\n",
        "\n",
        "\n",
        "\n"
      ],
      "metadata": {
        "id": "gsfs1f2JgIbu"
      }
    },
    {
      "cell_type": "code",
      "execution_count": 4,
      "metadata": {
        "id": "2y-_EJIAf3Wi"
      },
      "outputs": [],
      "source": [
        "import unittest\n",
        "def is_prime(n):\n",
        "    if not isinstance(n, int) or n <= 1:\n",
        "        return False\n",
        "    if n == 2:\n",
        "        return True\n",
        "    if n % 2 == 0:\n",
        "        return False\n",
        "    for i in range(3, int(n**0.5) + 1, 2):\n",
        "        if n % i == 0:\n",
        "            return False\n",
        "    return True\n",
        "\n",
        "\n"
      ]
    },
    {
      "cell_type": "markdown",
      "source": [
        "# Task-02"
      ],
      "metadata": {
        "id": "KuWf1sg2gX2K"
      }
    },
    {
      "cell_type": "code",
      "source": [
        "\n",
        "def celsius_to_fahrenheit(c):\n",
        "    if not isinstance(c, (int, float)):\n",
        "        raise TypeError(\"Input must be a number\")\n",
        "    return (c * 9/5) + 32\n",
        "\n",
        "def fahrenheit_to_celsius(f):\n",
        "    if not isinstance(f, (int, float)):\n",
        "        raise TypeError(\"Input must be a number\")\n",
        "    return (f - 32) * 5/9\n",
        "\n",
        "\n"
      ],
      "metadata": {
        "id": "2GaggJ-_gen0"
      },
      "execution_count": 3,
      "outputs": []
    },
    {
      "cell_type": "markdown",
      "source": [
        "# Task-03"
      ],
      "metadata": {
        "id": "isH5s8YAgnf0"
      }
    },
    {
      "cell_type": "code",
      "source": [
        "\n",
        "def count_words(text):\n",
        "    if not isinstance(text, str):\n",
        "        raise TypeError(\"Input must be a string\")\n",
        "    words = text.strip().split()\n",
        "    return len(words)\n",
        "\n",
        "\n"
      ],
      "metadata": {
        "id": "mmO7QTEXgxH_"
      },
      "execution_count": 2,
      "outputs": []
    },
    {
      "cell_type": "markdown",
      "source": [
        "# Task-04"
      ],
      "metadata": {
        "id": "gsmfObqjhHsB"
      }
    },
    {
      "cell_type": "code",
      "source": [
        "class BankAccount:\n",
        "    def __init__(self):\n",
        "        self._balance = 0.0\n",
        "\n",
        "    def deposit(self, amount):\n",
        "        if amount <= 0:\n",
        "            raise ValueError(\"Deposit must be positive\")\n",
        "        self._balance += amount\n",
        "\n",
        "    def withdraw(self, amount):\n",
        "        if amount <= 0:\n",
        "            raise ValueError(\"Withdrawal must be positive\")\n",
        "        if amount > self._balance:\n",
        "            raise ValueError(\"Insufficient funds\")\n",
        "        self._balance -= amount\n",
        "\n",
        "    def check_balance(self):\n",
        "        return self._balance\n",
        "\n",
        "\n",
        "\n"
      ],
      "metadata": {
        "id": "69oYXsSkhSdG"
      },
      "execution_count": 5,
      "outputs": []
    },
    {
      "cell_type": "markdown",
      "source": [
        "# Task-05"
      ],
      "metadata": {
        "id": "Q1d40mg-hyRA"
      }
    },
    {
      "cell_type": "code",
      "source": [
        "def is_number_palindrome(num):\n",
        "    if not isinstance(num, int) or num < 0:\n",
        "        return False\n",
        "    return str(num) == str(num)[::-1]\n",
        "\n"
      ],
      "metadata": {
        "id": "kk9IY0ZAh1tq"
      },
      "execution_count": 6,
      "outputs": []
    }
  ]
}